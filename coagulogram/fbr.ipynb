{
  "nbformat": 4,
  "nbformat_minor": 0,
  "metadata": {
    "colab": {
      "name": "fbr.ipynb",
      "provenance": [],
      "collapsed_sections": []
    },
    "kernelspec": {
      "name": "python3",
      "display_name": "Python 3"
    },
    "language_info": {
      "name": "python"
    }
  },
  "cells": [
    {
      "cell_type": "code",
      "metadata": {
        "colab": {
          "base_uri": "https://localhost:8080/"
        },
        "id": "J_W9nS8xXZLo",
        "outputId": "6eb3b6e5-61dc-4d30-a29f-67b2a0552d0e"
      },
      "source": [
        "from google.colab import drive\n",
        "drive.mount('/content/drive')"
      ],
      "execution_count": 1,
      "outputs": [
        {
          "output_type": "stream",
          "name": "stdout",
          "text": [
            "Mounted at /content/drive\n"
          ]
        }
      ]
    },
    {
      "cell_type": "code",
      "metadata": {
        "id": "wBF9F-8v3XAc"
      },
      "source": [
        "from re import sub, search, findall\n",
        "import os\n",
        "import pandas as pd\n",
        "import numpy as np\n",
        "from glob import glob\n",
        "def remover(file_):\n",
        "    file_ = ''.join(file_.split()).lower()\n",
        "    stop_element = ['менее|<|>|автоматическая|ручная|[()]'\n",
        "              '|меньш.|больше|более|до(?=[0-9])|менее|iultra|от(?=[0-9])'] #'до' ищет только после чисел, тк идет захват 'биохимисслеДОваниекрови'. аспартатаминОТрансфераза = аспартатаминрансфераза\n",
        "    for elem in stop_element:\n",
        "      file_ = sub(elem, '', file_)\n",
        "    file_ = sub(r',', '.', file_) # иначе не меняет на точку \n",
        "    return(file_)\n",
        "def change_date_format(dt):\n",
        "    \"\"\" на первом этапе переводим \"нормальный формат\" в формат через дефисы\n",
        "     на втором этапе ищем вариант дд.мм.гг в формат через дефисы\"\"\"\n",
        "    data_1 =  sub(r'(0?[1-9]|[12]\\d|30|31)[.](0?[1-9]|1[0-2])[.](\\d{4})', \n",
        "                     '\\\\1-\\\\2-\\\\3', dt)\n",
        "    return sub(r'(0?[1-9]|[12]\\d|30|31)[.](0?[1-9]|1[0-2])[.](\\d{2})', \n",
        "                  '\\\\1-\\\\2-20\\\\3', data_1)"
      ],
      "execution_count": 2,
      "outputs": []
    },
    {
      "cell_type": "code",
      "metadata": {
        "id": "0Mq6531R3ezJ"
      },
      "source": [
        "lst = list(glob(os.path.join('/content/drive/MyDrive/parser', '*')))"
      ],
      "execution_count": 3,
      "outputs": []
    },
    {
      "cell_type": "code",
      "metadata": {
        "id": "hwTDBXtQ3nr5"
      },
      "source": [
        "test_dates = []\n",
        "patients_id = []\n",
        "patients_birthday = []\n",
        "values_fbr = []\n",
        "for doc in lst:\n",
        "  with open(doc, encoding='utf-8', errors='ignore') as file_:\n",
        "#with open('/content/drive/MyDrive/проверка/германович-6.txt') as file_:\n",
        "    file_ = change_date_format(remover(file_.read()))\n",
        "    file_1 = sub(r'(гемостазиограмма)(\\d{2}-\\d{2}-\\d{4})', r'\\2\\1', file_)\n",
        "    for value in findall(r'(\\d{2}-\\d{2}-\\d{4}гемостазиограмма.*?)(?=\\d{2}-\\d{2}-\\d{4})', file_1):\n",
        "      date = search(r'(\\d{2}-\\d{2}-\\d{4})(?=гемостазиограмма)', file_1)\n",
        "      if date:\n",
        "        test_dates.append(date[0])\n",
        "      id = search(r'\\d+', file_1) #ищем айди. находит самую первую дату в эпикризе. !!! есть эпикризы в которых первые цифры это номер отделения, типа онко отд. №2\n",
        "      if id:\n",
        "        patients_id.append(id[0])\n",
        "      birthday = search(\"(\\d{2})-(\\d{2})-(\\d{4})\", file_1)\n",
        "      if birthday:\n",
        "        patients_birthday.append(birthday[0])\n",
        "      fbr = search(r'(?<=фибриноген)\\d+', value)\n",
        "      if fbr:\n",
        "        values_fbr.append(fbr[0])\n",
        "      else:\n",
        "        values_fbr.append('NaN')  \n",
        "      "
      ],
      "execution_count": 4,
      "outputs": []
    },
    {
      "cell_type": "code",
      "metadata": {
        "id": "E-n7J0Dr3zEw",
        "colab": {
          "base_uri": "https://localhost:8080/",
          "height": 424
        },
        "outputId": "0d36698a-4ac6-40c7-ffa6-f4589d733418"
      },
      "source": [
        "data_dct = {'ID':patients_id, 'Birthday':patients_birthday, 'dates':test_dates, 'fbr':values_fbr}\n",
        "df = pd.DataFrame(data_dct)\n",
        "df = df.replace(r'', np.nan, regex=True)\n",
        "df"
      ],
      "execution_count": 5,
      "outputs": [
        {
          "output_type": "execute_result",
          "data": {
            "text/html": [
              "<div>\n",
              "<style scoped>\n",
              "    .dataframe tbody tr th:only-of-type {\n",
              "        vertical-align: middle;\n",
              "    }\n",
              "\n",
              "    .dataframe tbody tr th {\n",
              "        vertical-align: top;\n",
              "    }\n",
              "\n",
              "    .dataframe thead th {\n",
              "        text-align: right;\n",
              "    }\n",
              "</style>\n",
              "<table border=\"1\" class=\"dataframe\">\n",
              "  <thead>\n",
              "    <tr style=\"text-align: right;\">\n",
              "      <th></th>\n",
              "      <th>ID</th>\n",
              "      <th>Birthday</th>\n",
              "      <th>dates</th>\n",
              "      <th>fbr</th>\n",
              "    </tr>\n",
              "  </thead>\n",
              "  <tbody>\n",
              "    <tr>\n",
              "      <th>0</th>\n",
              "      <td>4656</td>\n",
              "      <td>14-10-1978</td>\n",
              "      <td>01-08-2018</td>\n",
              "      <td>7</td>\n",
              "    </tr>\n",
              "    <tr>\n",
              "      <th>1</th>\n",
              "      <td>4656</td>\n",
              "      <td>14-10-1978</td>\n",
              "      <td>01-08-2018</td>\n",
              "      <td>6</td>\n",
              "    </tr>\n",
              "    <tr>\n",
              "      <th>2</th>\n",
              "      <td>4656</td>\n",
              "      <td>14-10-1978</td>\n",
              "      <td>01-08-2018</td>\n",
              "      <td>7</td>\n",
              "    </tr>\n",
              "    <tr>\n",
              "      <th>3</th>\n",
              "      <td>1357</td>\n",
              "      <td>04-03-1952</td>\n",
              "      <td>05-03-2020</td>\n",
              "      <td>8</td>\n",
              "    </tr>\n",
              "    <tr>\n",
              "      <th>4</th>\n",
              "      <td>7255</td>\n",
              "      <td>16-01-1944</td>\n",
              "      <td>06-11-2017</td>\n",
              "      <td>5</td>\n",
              "    </tr>\n",
              "    <tr>\n",
              "      <th>...</th>\n",
              "      <td>...</td>\n",
              "      <td>...</td>\n",
              "      <td>...</td>\n",
              "      <td>...</td>\n",
              "    </tr>\n",
              "    <tr>\n",
              "      <th>868</th>\n",
              "      <td>3417</td>\n",
              "      <td>20-04-1936</td>\n",
              "      <td>23-05-2017</td>\n",
              "      <td>3</td>\n",
              "    </tr>\n",
              "    <tr>\n",
              "      <th>869</th>\n",
              "      <td>5600</td>\n",
              "      <td>28-11-1964</td>\n",
              "      <td>22-12-2020</td>\n",
              "      <td>6</td>\n",
              "    </tr>\n",
              "    <tr>\n",
              "      <th>870</th>\n",
              "      <td>2120</td>\n",
              "      <td>17-01-1969</td>\n",
              "      <td>24-04-2020</td>\n",
              "      <td>10</td>\n",
              "    </tr>\n",
              "    <tr>\n",
              "      <th>871</th>\n",
              "      <td>2120</td>\n",
              "      <td>17-01-1969</td>\n",
              "      <td>24-04-2020</td>\n",
              "      <td>9</td>\n",
              "    </tr>\n",
              "    <tr>\n",
              "      <th>872</th>\n",
              "      <td>2676</td>\n",
              "      <td>29-06-1981</td>\n",
              "      <td>11-06-2020</td>\n",
              "      <td>3</td>\n",
              "    </tr>\n",
              "  </tbody>\n",
              "</table>\n",
              "<p>873 rows × 4 columns</p>\n",
              "</div>"
            ],
            "text/plain": [
              "       ID    Birthday       dates fbr\n",
              "0    4656  14-10-1978  01-08-2018   7\n",
              "1    4656  14-10-1978  01-08-2018   6\n",
              "2    4656  14-10-1978  01-08-2018   7\n",
              "3    1357  04-03-1952  05-03-2020   8\n",
              "4    7255  16-01-1944  06-11-2017   5\n",
              "..    ...         ...         ...  ..\n",
              "868  3417  20-04-1936  23-05-2017   3\n",
              "869  5600  28-11-1964  22-12-2020   6\n",
              "870  2120  17-01-1969  24-04-2020  10\n",
              "871  2120  17-01-1969  24-04-2020   9\n",
              "872  2676  29-06-1981  11-06-2020   3\n",
              "\n",
              "[873 rows x 4 columns]"
            ]
          },
          "metadata": {},
          "execution_count": 5
        }
      ]
    },
    {
      "cell_type": "code",
      "metadata": {
        "id": "iq47Me1nb89N"
      },
      "source": [
        ""
      ],
      "execution_count": null,
      "outputs": []
    }
  ]
}